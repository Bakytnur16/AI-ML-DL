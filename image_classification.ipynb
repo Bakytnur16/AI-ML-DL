{
  "nbformat": 4,
  "nbformat_minor": 0,
  "metadata": {
    "colab": {
      "provenance": []
    },
    "kernelspec": {
      "name": "python3",
      "display_name": "Python 3"
    },
    "language_info": {
      "name": "python"
    }
  },
  "cells": [
    {
      "cell_type": "code",
      "execution_count": null,
      "metadata": {
        "id": "L0szxpsZkgJK"
      },
      "outputs": [],
      "source": [
        "import torch\n",
        "from torch.utils.data import Dataset,DataLoader #常用工具区utils .data数据区\n",
        "import pandas as pd\n",
        "import numpy as np\n",
        "\n",
        "torch.__version__#tourch版本\n",
        "\n",
        "torch.cuda.is_available()#有没有显卡，有没有被激活 [如果为false，gpu是否支持cuda]\n",
        "\n",
        "dir(torch.cuda.is_available())#打开某个package具有的功能并展示\n",
        "\n",
        "help(torch.cuda.is_available)#解释包的每个功能的用法"
      ]
    },
    {
      "cell_type": "code",
      "source": [
        "#不支持一边用cpu、另一边同gpu计算\n",
        "a = torch.ones(3,3)\n",
        "b = torch.ones(3,3)\n",
        "\n",
        "a = a.to('cpu')\n",
        "b = b.to('cuda')\n",
        "#a+b 两个在不同设备上运行（cpu、gpu）的代码不能被计算出来\n",
        "\n",
        "import torch\n",
        "a = torch.Tensor([[1,2,3],[1,2,3]])\n",
        "b = torch.unsqueeze(a,0)#扩充，反之压缩\n",
        "print(a,b)\n",
        "\n",
        "from PIL import image #打开图片\n",
        "#如果只用展示某个固定的图片\n",
        "img = Image.open(\"../data/plch2/bobby.jpg\")\n",
        "\n",
        "img.show()#展示图品\n",
        "\n",
        "#多个图片的时候，分开写\n",
        "img_path = \"../data/plch2/bobby.jpg\"\n",
        "img = Image.open(img_path)"
      ],
      "metadata": {
        "id": "iCudl_h6k4K9"
      },
      "execution_count": null,
      "outputs": []
    },
    {
      "cell_type": "code",
      "source": [
        "from torchvision import models\n",
        "#torchvision 是PyTorch中专门用来处理图像的库\n",
        "\n",
        "dir(models)#查看有哪些模型可用\n",
        "\n",
        "#创建模型实例\n",
        "alexnet = models.AlexNet()\n",
        "alexnet#此时，alexnet是一个可以运行AlexNet架构的对象\n",
        "\n",
        "resnet = models.resnet101(pretrained=True)\n",
        "resnet"
      ],
      "metadata": {
        "colab": {
          "base_uri": "https://localhost:8080/"
        },
        "id": "blrXEfEJlA8z",
        "outputId": "10bb5eda-97f5-4a40-d0be-58aeef7b6a30"
      },
      "execution_count": 1,
      "outputs": [
        {
          "output_type": "execute_result",
          "data": {
            "text/plain": [
              "AlexNet(\n",
              "  (features): Sequential(\n",
              "    (0): Conv2d(3, 64, kernel_size=(11, 11), stride=(4, 4), padding=(2, 2))\n",
              "    (1): ReLU(inplace=True)\n",
              "    (2): MaxPool2d(kernel_size=3, stride=2, padding=0, dilation=1, ceil_mode=False)\n",
              "    (3): Conv2d(64, 192, kernel_size=(5, 5), stride=(1, 1), padding=(2, 2))\n",
              "    (4): ReLU(inplace=True)\n",
              "    (5): MaxPool2d(kernel_size=3, stride=2, padding=0, dilation=1, ceil_mode=False)\n",
              "    (6): Conv2d(192, 384, kernel_size=(3, 3), stride=(1, 1), padding=(1, 1))\n",
              "    (7): ReLU(inplace=True)\n",
              "    (8): Conv2d(384, 256, kernel_size=(3, 3), stride=(1, 1), padding=(1, 1))\n",
              "    (9): ReLU(inplace=True)\n",
              "    (10): Conv2d(256, 256, kernel_size=(3, 3), stride=(1, 1), padding=(1, 1))\n",
              "    (11): ReLU(inplace=True)\n",
              "    (12): MaxPool2d(kernel_size=3, stride=2, padding=0, dilation=1, ceil_mode=False)\n",
              "  )\n",
              "  (avgpool): AdaptiveAvgPool2d(output_size=(6, 6))\n",
              "  (classifier): Sequential(\n",
              "    (0): Dropout(p=0.5, inplace=False)\n",
              "    (1): Linear(in_features=9216, out_features=4096, bias=True)\n",
              "    (2): ReLU(inplace=True)\n",
              "    (3): Dropout(p=0.5, inplace=False)\n",
              "    (4): Linear(in_features=4096, out_features=4096, bias=True)\n",
              "    (5): ReLU(inplace=True)\n",
              "    (6): Linear(in_features=4096, out_features=1000, bias=True)\n",
              "  )\n",
              ")"
            ]
          },
          "metadata": {},
          "execution_count": 1
        }
      ]
    },
    {
      "cell_type": "markdown",
      "source": [
        "在colab上如何加载数据集：\n",
        "1.数据集在github：  \n",
        "!git clone https://github.com/Bakytnur16/Mydata.git\n",
        "\n",
        "2.查看是否已经加载到目录中：  \n",
        "!ls-R"
      ],
      "metadata": {
        "id": "ykmKLHr-nOtf"
      }
    },
    {
      "cell_type": "markdown",
      "source": [
        "# 数据预处理"
      ],
      "metadata": {
        "id": "nA8yiDJnuGE2"
      }
    },
    {
      "cell_type": "code",
      "source": [
        "from torchvision import transforms\n",
        "#预处理：变换图像\n",
        "preprocess = transforms.Compose([\n",
        "    transforms.Resize(256),#将图片像素更改为256*256\n",
        "    transforms.CenterCrop(224),#围绕中心将图像裁剪为224×224个像素\n",
        "    transforms.ToTensor(),#转换为张量\n",
        "    transforms.Normalize( #对RGB分量进行归一化处理，有固定的均值和标准值\n",
        "        mean=[0.485,0.456,0.406],\n",
        "        std=[0.229, 0.224, 0.225]\n",
        "    )])"
      ],
      "metadata": {
        "id": "VOUvpTWQlpCG"
      },
      "execution_count": null,
      "outputs": []
    },
    {
      "cell_type": "code",
      "source": [
        "img = Image.open(\"...jpg\")\n",
        "img_t = preprocess(img) #预处理管道传递图像\n",
        "\n",
        "import torch\n",
        "batch_t = torch.unsqueeze(img_t,0)#unsqueeze对数据维度进行扩充，反之压缩\n",
        "#在img_t的0位置加上一个维度为1的维度\n",
        "#按照网络期望的方式对输入的张量进行重塑、裁剪、归一化处理\n"
      ],
      "metadata": {
        "id": "eaKMyJ0KuU5R"
      },
      "execution_count": null,
      "outputs": []
    },
    {
      "cell_type": "markdown",
      "source": [
        "# 图像识别 【resnet】\n"
      ],
      "metadata": {
        "id": "1vxsBptQ8CSy"
      }
    },
    {
      "cell_type": "code",
      "source": [
        "#1. 创建resnet实例 -> 引入模型\n",
        "from torchvision import models #torchvision 是PyTorch中专门用来处理图像的库\n",
        "resnet = models.resnet101(pretrained=True) #预训练为正，已经通过一批训练数据后的模型\n",
        "\n",
        "#2. 数据预处理\n",
        "from torchvision import transforms\n",
        "preprocess=(transforms.Compose([\n",
        "    transforms.Resize(256),#调整图片像素\n",
        "    transforms.CenterCrop(224),#围绕圆心剪切图片大小\n",
        "    transforms.ToTensor(),#转换为张量\n",
        "    transforms.Normalize(#设置颜色，使其大致相同【同一个滤镜】\n",
        "        mean = [0.485,0.456,0.406],\n",
        "        std = [0.229,0.224,0.225]\n",
        "    )]))\n",
        "\n",
        "#3. 预处理输入【测试】数据\n",
        "from PIL import Image\n",
        "img = Image.open(\"/content/Mydata/hymenoptera_data/train/ants/0013035.jpg\")\n",
        "img_t = preprocess(img) #通过预处理通道后，即可转换为张量\n",
        "\n",
        "import torch\n",
        "batch_t = torch.unsqueeze(img_t,0) #均一化，加标签列？\n",
        "\n",
        "# 在新数据上运行训练过的模型的过程被称为推理（inference），测试模型过程叫推理\n",
        "\n",
        "#4. 评估数据\n",
        "resnet.eval() #评估模式：模型内部的权值不会改变\n",
        "#如果不启动评估模式，那么我们导入的预训练模型，批归一化、dropout就没意义了\n",
        "\n",
        "out = resnet(batch_t) #输出为带有1000个标签的分数\n",
        "\n",
        "#5. 输出标签，找出最高分的标签\n",
        "\n",
        "#加载带有1000个标签的文件夹\n",
        "with open('/content/dlwpt-code/data/p1ch2/imagenet_classes.txt') as f:\n",
        "  labels = [line.strip() for line in f.readlines()]\n",
        "\n",
        "_, index = torch.max(out, 1)\n",
        "\n",
        "#没有_,返回values和index，有回复310\n",
        "#labels[index]返回当下索引的字符 -> ant\n",
        "\n",
        "percentage = torch.nn.functional.softmax(out, dim=1)[0] * 100 \n",
        "#torch.nn.functional.softmax()将输出归一化到[0,1]后除以总和，数字转换为百分比\n",
        "\n",
        "labels[index[0]], percentage[index[0]].item() \n",
        "\n",
        "\n",
        "#输出前五个类别\n",
        "_, indices = torch.sort(out, descending=True) \n",
        "[(labels[idx]) for idx in indices[0][:5]]\n",
        "\n",
        "_, indices = torch.sort(out, descending=True) \n",
        "[(labels[idx], percentage[idx].item()) for idx in indices[0][:5]]\n",
        "#输出百分比\n"
      ],
      "metadata": {
        "id": "8WVFCqSf8G5i"
      },
      "execution_count": null,
      "outputs": []
    }
  ]
}
